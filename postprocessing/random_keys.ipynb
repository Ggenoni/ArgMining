{
 "cells": [
  {
   "cell_type": "markdown",
   "metadata": {},
   "source": [
    "60 random keys to choose 60 interventions for a qualitative comparison between raw outputs and postprocessed outputs.  \n",
    "For each model, I take 20 samples for each run with a different random seed (0, 42, 101)."
   ]
  },
  {
   "cell_type": "code",
   "execution_count": 9,
   "metadata": {},
   "outputs": [],
   "source": [
    "import json\n",
    "import random\n",
    "import re\n",
    "import os"
   ]
  },
  {
   "cell_type": "code",
   "execution_count": 2,
   "metadata": {},
   "outputs": [],
   "source": [
    "with open(\"validation.json\", \"r\") as f:\n",
    "    data = json.load(f)"
   ]
  },
  {
   "cell_type": "code",
   "execution_count": 3,
   "metadata": {},
   "outputs": [
    {
     "data": {
      "text/plain": [
       "dict"
      ]
     },
     "execution_count": 3,
     "metadata": {},
     "output_type": "execute_result"
    }
   ],
   "source": [
    "type(data)"
   ]
  },
  {
   "cell_type": "code",
   "execution_count": 4,
   "metadata": {},
   "outputs": [
    {
     "data": {
      "text/plain": [
       "186"
      ]
     },
     "execution_count": 4,
     "metadata": {},
     "output_type": "execute_result"
    }
   ],
   "source": [
    "intervention_keys = list(data.keys())\n",
    "len(intervention_keys)"
   ]
  },
  {
   "cell_type": "code",
   "execution_count": 5,
   "metadata": {},
   "outputs": [
    {
     "data": {
      "text/plain": [
       "['CLINTON_199_2',\n",
       " 'CLINTON_1_2',\n",
       " 'CLINTON_21',\n",
       " 'CLINTON_223_1',\n",
       " 'CLINTON_223_2']"
      ]
     },
     "execution_count": 5,
     "metadata": {},
     "output_type": "execute_result"
    }
   ],
   "source": [
    "intervention_keys[:5]"
   ]
  },
  {
   "cell_type": "code",
   "execution_count": 6,
   "metadata": {},
   "outputs": [],
   "source": [
    "random.seed(42)\n",
    "random_keys = random.sample(intervention_keys, 60)"
   ]
  },
  {
   "cell_type": "code",
   "execution_count": 7,
   "metadata": {},
   "outputs": [
    {
     "data": {
      "text/plain": [
       "60"
      ]
     },
     "execution_count": 7,
     "metadata": {},
     "output_type": "execute_result"
    }
   ],
   "source": [
    "len(random_keys)"
   ]
  },
  {
   "cell_type": "code",
   "execution_count": 8,
   "metadata": {},
   "outputs": [
    {
     "data": {
      "text/plain": [
       "60"
      ]
     },
     "execution_count": 8,
     "metadata": {},
     "output_type": "execute_result"
    }
   ],
   "source": [
    "random_keys_0 = random_keys[:20]\n",
    "random_keys_42 = random_keys[20:40]\n",
    "random_keys_101 = random_keys[40:]\n",
    "len(set(random_keys_101 + random_keys_0 + random_keys_42))"
   ]
  },
  {
   "cell_type": "code",
   "execution_count": 46,
   "metadata": {},
   "outputs": [
    {
     "data": {
      "text/plain": [
       "['TRUMP_140_1',\n",
       " 'HOLT_94',\n",
       " 'CLINTON_231',\n",
       " 'TRUMP_93',\n",
       " 'TRUMP_3_2',\n",
       " 'TRUMP_253',\n",
       " 'Antanagoge_104',\n",
       " 'HOLT_126',\n",
       " 'TRUMP_236',\n",
       " 'howie_238',\n",
       " 'Elmattador__92',\n",
       " 'travellots_133_1',\n",
       " 'Mulder_112',\n",
       " 'CLINTON_244_2',\n",
       " 'CLINTON_235',\n",
       " 'FoodAllergyMom_199_1',\n",
       " 'TRUMP_249',\n",
       " 'TRUMP_275',\n",
       " 'drgreg_181_1',\n",
       " 'TRUMP_114_1']"
      ]
     },
     "execution_count": 46,
     "metadata": {},
     "output_type": "execute_result"
    }
   ],
   "source": [
    "random_keys_0"
   ]
  },
  {
   "cell_type": "code",
   "execution_count": 47,
   "metadata": {},
   "outputs": [
    {
     "data": {
      "text/plain": [
       "['TRUMP_174_1',\n",
       " 'mcliverty_188_2',\n",
       " 'CLINTON_176_2',\n",
       " 'MT_14',\n",
       " 'MrFordization__82',\n",
       " 'TRUMP_251',\n",
       " 'PeanutAllergy_232',\n",
       " 'smr_174_2',\n",
       " 'TRUMP_95',\n",
       " 'CLINTON_1_2',\n",
       " 'CF_29',\n",
       " 'MT_45',\n",
       " 'JDwyer_17',\n",
       " 'TRUMP_121_2',\n",
       " 'Bill_106',\n",
       " 'TRUMP_192',\n",
       " 'darawayne_182',\n",
       " 'ND_23',\n",
       " 'TRUMP_202_1',\n",
       " 'JetJock_156_1']"
      ]
     },
     "execution_count": 47,
     "metadata": {},
     "output_type": "execute_result"
    }
   ],
   "source": [
    "random_keys_42"
   ]
  },
  {
   "cell_type": "code",
   "execution_count": 48,
   "metadata": {},
   "outputs": [
    {
     "data": {
      "text/plain": [
       "['Frequent-Flyer_157',\n",
       " 'JJMurray_180',\n",
       " 'JJMurray_140',\n",
       " 'TRUMP_77_1',\n",
       " 'CLINTON_39',\n",
       " 'Qubbin_80',\n",
       " 'howie_208',\n",
       " 'AFCHF_154',\n",
       " 'Javier_84',\n",
       " 'CL_57',\n",
       " 'Zewstain__641',\n",
       " 'JL_15',\n",
       " 'CLINTON_176_1',\n",
       " 'CLINTON_85',\n",
       " 'lauraclare_136',\n",
       " 'TRUMP_26',\n",
       " 'Velshtein__565',\n",
       " 'howie_201',\n",
       " 'TRUMP_183',\n",
       " 'Mulder_240']"
      ]
     },
     "execution_count": 48,
     "metadata": {},
     "output_type": "execute_result"
    }
   ],
   "source": [
    "random_keys_101"
   ]
  }
 ],
 "metadata": {
  "kernelspec": {
   "display_name": "Python 3",
   "language": "python",
   "name": "python3"
  },
  "language_info": {
   "codemirror_mode": {
    "name": "ipython",
    "version": 3
   },
   "file_extension": ".py",
   "mimetype": "text/x-python",
   "name": "python",
   "nbconvert_exporter": "python",
   "pygments_lexer": "ipython3",
   "version": "3.12.0"
  }
 },
 "nbformat": 4,
 "nbformat_minor": 2
}
